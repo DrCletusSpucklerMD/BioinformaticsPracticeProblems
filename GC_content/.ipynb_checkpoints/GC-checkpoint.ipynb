{
 "cells": [
  {
   "cell_type": "code",
   "execution_count": 1,
   "id": "5d4a4a0b",
   "metadata": {
    "pycharm": {
     "is_executing": true
    }
   },
   "outputs": [],
   "source": [
    "import pandas as pd\n",
    "import re\n",
    "import numpy as np"
   ]
  },
  {
   "cell_type": "code",
   "execution_count": 27,
   "id": "4713a75a",
   "metadata": {
    "pycharm": {
     "name": "#%%\n"
    }
   },
   "outputs": [],
   "source": [
    "with open(\"./rosalind_gc-3.txt\", \"r\") as text:\n",
    "    text = text.readlines()"
   ]
  },
  {
   "cell_type": "code",
   "execution_count": 28,
   "id": "ee24826d",
   "metadata": {
    "pycharm": {
     "name": "#%%\n"
    }
   },
   "outputs": [],
   "source": [
    "num_lines = len(text)\n",
    "DNA_strings = []\n",
    "i = 0\n",
    "j = -1\n",
    "while i < num_lines:\n",
    "    text[i] = text[i].strip(\"\\n\")\n",
    "    if text[i][0] == \">\":\n",
    "        DNA_strings.append(text[i]+ \",\")\n",
    "        i += 1\n",
    "        j += 1\n",
    "        continue\n",
    "    else:\n",
    "        DNA_strings[j] = DNA_strings[j] + text[i]\n",
    "        i += 1\n",
    "for k in range(len(DNA_strings)):\n",
    "    DNA_strings[k] = DNA_strings[k].split(\",\")\n",
    "#print(DNA_strings)"
   ]
  },
  {
   "cell_type": "code",
   "execution_count": 29,
   "id": "2d74ec98",
   "metadata": {
    "pycharm": {
     "name": "#%%\n"
    }
   },
   "outputs": [],
   "source": [
    "for entry_index in range(len(DNA_strings)):\n",
    "    gc = 0\n",
    "    for nucleotide in DNA_strings[entry_index][1]:\n",
    "        if nucleotide == 'C' or nucleotide == 'G':\n",
    "            gc += 1\n",
    "        else:\n",
    "            continue\n",
    "    DNA_strings[entry_index] = np.append(DNA_strings[entry_index], 100*gc/len(DNA_strings[entry_index][1]), axis=None)"
   ]
  },
  {
   "cell_type": "code",
   "execution_count": 30,
   "id": "a03b8abf",
   "metadata": {
    "pycharm": {
     "name": "#%%\n"
    }
   },
   "outputs": [],
   "source": [
    "indices = []\n",
    "sequences = []\n",
    "gc = []\n",
    "for entry in DNA_strings:\n",
    "    indices.append(entry[0].strip(\"\\n\"))\n",
    "    sequences.append(entry[1])\n",
    "    gc.append(float(entry[2]))"
   ]
  },
  {
   "cell_type": "code",
   "execution_count": 31,
   "id": "b458a303",
   "metadata": {
    "pycharm": {
     "name": "#%%\n"
    }
   },
   "outputs": [
    {
     "name": "stdout",
     "output_type": "stream",
     "text": [
      "sequence       object\n",
      "gc_content    float64\n",
      "dtype: object\n"
     ]
    }
   ],
   "source": [
    "d = {\"sequence\": sequences, \"gc_content\": gc}\n",
    "df = pd.DataFrame(d, index = indices)\n",
    "print(df.dtypes)"
   ]
  },
  {
   "cell_type": "code",
   "execution_count": 32,
   "id": "5a6cf1a1",
   "metadata": {
    "pycharm": {
     "is_executing": true,
     "name": "#%%\n"
    }
   },
   "outputs": [],
   "source": [
    "df = df.sort_values(by=['gc_content'], ascending=False)"
   ]
  },
  {
   "cell_type": "code",
   "execution_count": 37,
   "id": "880550cc",
   "metadata": {
    "pycharm": {
     "name": "#%%\n"
    }
   },
   "outputs": [
    {
     "data": {
      "text/plain": [
       ">Rosalind_2428    49.784483\n",
       "Name: gc_content, dtype: float64"
      ]
     },
     "execution_count": 37,
     "metadata": {},
     "output_type": "execute_result"
    }
   ],
   "source": [
    "df['gc_content'].head(1)"
   ]
  },
  {
   "cell_type": "code",
   "execution_count": null,
   "id": "d23465d3",
   "metadata": {},
   "outputs": [],
   "source": []
  }
 ],
 "metadata": {
  "kernelspec": {
   "display_name": "Rosalind4",
   "language": "python",
   "name": "rosalind4"
  },
  "language_info": {
   "codemirror_mode": {
    "name": "ipython",
    "version": 3
   },
   "file_extension": ".py",
   "mimetype": "text/x-python",
   "name": "python",
   "nbconvert_exporter": "python",
   "pygments_lexer": "ipython3",
   "version": "3.9.7"
  }
 },
 "nbformat": 4,
 "nbformat_minor": 5
}
