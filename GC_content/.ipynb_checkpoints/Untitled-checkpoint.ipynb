{
 "cells": [
  {
   "cell_type": "code",
   "execution_count": 34,
   "id": "5d4a4a0b",
   "metadata": {},
   "outputs": [],
   "source": [
    "import pandas as pd\n",
    "import re"
   ]
  },
  {
   "cell_type": "code",
   "execution_count": 51,
   "id": "beab129b",
   "metadata": {},
   "outputs": [
    {
     "name": "stdout",
     "output_type": "stream",
     "text": [
      ">Rosalind_6404\n",
      "\n",
      ">Rosalind_5959\n",
      "\n",
      ">Rosalind_0808\n",
      "\n"
     ]
    }
   ],
   "source": [
    "DNA_strings = []\n",
    "\n",
    "with open(\"./FASTA.txt\", \"r\") as text:\n",
    "    text = text.readlines()\n",
    "for line in text:\n",
    "    if line[0] == \">\":\n",
    "        DNA_strings\n",
    "    else:\n",
    "        continue"
   ]
  },
  {
   "cell_type": "code",
   "execution_count": null,
   "id": "85d1c8fa",
   "metadata": {
    "pycharm": {
     "name": "#%%\n"
    }
   },
   "outputs": [],
   "source": []
  }
 ],
 "metadata": {
  "kernelspec": {
   "display_name": "Rosalind4",
   "language": "python",
   "name": "rosalind4"
  },
  "language_info": {
   "codemirror_mode": {
    "name": "ipython",
    "version": 3
   },
   "file_extension": ".py",
   "mimetype": "text/x-python",
   "name": "python",
   "nbconvert_exporter": "python",
   "pygments_lexer": "ipython3",
   "version": "3.9.7"
  }
 },
 "nbformat": 4,
 "nbformat_minor": 5
}
