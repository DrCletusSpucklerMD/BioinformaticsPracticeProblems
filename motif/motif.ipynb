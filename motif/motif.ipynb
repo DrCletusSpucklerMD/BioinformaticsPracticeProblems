{
 "cells": [
  {
   "cell_type": "code",
   "execution_count": 151,
   "outputs": [],
   "source": [
    "import re"
   ],
   "metadata": {
    "collapsed": false,
    "pycharm": {
     "name": "#%%\n"
    }
   }
  },
  {
   "cell_type": "code",
   "execution_count": 152,
   "outputs": [],
   "source": [
    "with open(\"./rosalind_subs.txt\") as text:\n",
    "    string = text.readline()\n",
    "    motif = text.readline()"
   ],
   "metadata": {
    "collapsed": false,
    "pycharm": {
     "name": "#%%\n"
    }
   }
  },
  {
   "cell_type": "code",
   "execution_count": 153,
   "outputs": [
    {
     "name": "stdout",
     "output_type": "stream",
     "text": [
      "CAGGGATGAGGGATGCCATCATCGACGTAGTGGTAAGGGATGAGGGATGTGAAGGGATGCCAGGGATGCTGAGGGATGAGGGATGGTAACGTCAGGGATGGAGGGATGATAGGGATGAACCGAGGGATGGCCTAACCCGCCTATAGTAAAAAGGGATGCGGGAGGGATGTGAGGGATGTTGAGGGATGTATGTGCCAGGGATGAGGGATGGTCAGGGATGCATATAGGGATGCAGGGATGTATAGGGATGAAAAGGGATGAGGGATGGCGGGCAGGGATGACAGGGATGGAGGTACGTTAGGGATGAGGGATGAGGGATGAAGAGGGATGGCAGAGGGATGAGGGATGGAGGGATGATCGCTGAGGGATGAGGGATGGAGGGATGACTGAGGGATGAGGGATGTGGCACTTAGGGATGGAGGGATGAGGGATGTGAGGGATGTAGGGATGAAGAGGGATGCTTCAGGGATGCAGGGATGAGGGATGGTCTTCCCAGCAGTACCAGGGATGTGAGGGATGAAGGGATGGTTTGAGGGATGGCGCAAGGGATGAGGGATGGTAAGGGATGCAGGGATGAGGGATGACGCAGCACAGGGATGAGGGATGTCGTAGGGATGAGGGATGGGAGGGATGCGCTAGGGATGCAAGGGATGTAGGGATGCAAGGGATGAGGGATGTTAGGGATGAGGGATGCAAGGGATGGAGGGATGTAGGGATGTAGGGATGTGAAAGGGATGAAGGGATGTGACAGGGATGTGTAAAAAAAGGGATGAGGGATGACAAGGGTTATAGAGGGATGAGGGATGGAGGGATGTTCACTAGGGATGGAGGGATGAGGGATGAAGGGATG\n",
      "\n",
      "AGGGATGAG\n"
     ]
    }
   ],
   "source": [
    "print(string)\n",
    "print(motif.strip(\"\\n\"))"
   ],
   "metadata": {
    "collapsed": false,
    "pycharm": {
     "name": "#%%\n"
    }
   }
  },
  {
   "cell_type": "code",
   "execution_count": 154,
   "outputs": [
    {
     "name": "stdout",
     "output_type": "stream",
     "text": [
      "2 36 72 197 254 300 335 364 390 420 473 545 570 593 611 664 680 766 793 829 \n"
     ]
    }
   ],
   "source": [
    "locs = \"\"\n",
    "for m in re.finditer(motif.strip(\"\\n\"), string):\n",
    "        num = int('%01d ' % (m.start())) + 1\n",
    "        locs = locs + str(num) + \" \"\n",
    "print(locs)"
   ],
   "metadata": {
    "collapsed": false,
    "pycharm": {
     "name": "#%%\n"
    }
   }
  },
  {
   "cell_type": "code",
   "execution_count": 155,
   "outputs": [
    {
     "name": "stdout",
     "output_type": "stream",
     "text": [
      "[]\n"
     ]
    }
   ],
   "source": [
    "print(countMotif(string,motif))"
   ],
   "metadata": {
    "collapsed": false,
    "pycharm": {
     "name": "#%%\n"
    }
   }
  },
  {
   "cell_type": "code",
   "execution_count": null,
   "outputs": [],
   "source": [],
   "metadata": {
    "collapsed": false,
    "pycharm": {
     "name": "#%%\n"
    }
   }
  }
 ],
 "metadata": {
  "kernelspec": {
   "name": "rosalind4",
   "language": "python",
   "display_name": "Rosalind4"
  },
  "language_info": {
   "codemirror_mode": {
    "name": "ipython",
    "version": 2
   },
   "file_extension": ".py",
   "mimetype": "text/x-python",
   "name": "python",
   "nbconvert_exporter": "python",
   "pygments_lexer": "ipython2",
   "version": "2.7.6"
  }
 },
 "nbformat": 4,
 "nbformat_minor": 0
}