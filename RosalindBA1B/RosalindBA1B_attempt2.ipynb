{
 "cells": [
  {
   "cell_type": "code",
   "execution_count": 1,
   "outputs": [],
   "source": [
    "import pandas as pd"
   ],
   "metadata": {
    "collapsed": false,
    "pycharm": {
     "name": "#%%\n"
    }
   }
  },
  {
   "cell_type": "code",
   "execution_count": 138,
   "outputs": [],
   "source": [
    "text_pattern = \"GGTTAGGGAGCCCCTCGGTAATGATAGGTTAGGGAGGTTAGGGAGCCCCTCGAGACAGGCAGACAGGCGGTTAGGGAAGACAGGCAGACAGGCTTAGCCTGGGTTAGGGATTAGCCTGGCCCCTCGAGACAGGCGCCCCTCGAGACAGGCTTAGCCTGAGACAGGCGTAATGATAGCCCCTCGTTAGCCTGTTAGCCTGTTAGCCTGGCCCCTCGGGTTAGGGAGGTTAGGGATTAGCCTGGCCCCTCGTTAGCCTGGGTTAGGGAGTAATGATAGTAATGATAAGACAGGCAGACAGGCTTAGCCTGGCCCCTCGGGTTAGGGAGCCCCTCGGCCCCTCGGTAATGATAGCCCCTCGGTAATGATATTAGCCTGGGTTAGGGAGTAATGATATTAGCCTGAGACAGGCGGTTAGGGAAGACAGGCGGTTAGGGAGTAATGATAGCCCCTCGAGACAGGCAGACAGGCAGACAGGCTTAGCCTGGCCCCTCGGCCCCTCGGTAATGATAGTAATGATATTAGCCTGGTAATGATAGTAATGATAAGACAGGCGCCCCTCGGCCCCTCGGGTTAGGGATTAGCCTGGTAATGATAGGTTAGGGAGCCCCTCGGCCCCTCGGGTTAGGGATTAGCCTGTTAGCCTGTTAGCCTGGCCCCTCGTTAGCCTGGTAATGATATTAGCCTGGGTTAGGGAGTAATGATATTAGCCTGGTAATGATAGTAATGATAAGACAGGCTTAGCCTGGTAATGATATTAGCCTGGCCCCTCGGTAATGATAGGTTAGGGAAGACAGGCGCCCCTCGAGACAGGCGGTTAGGGA\"\n",
    "k_mer = 12"
   ],
   "metadata": {
    "collapsed": false,
    "pycharm": {
     "name": "#%%\n"
    }
   }
  },
  {
   "cell_type": "code",
   "execution_count": 139,
   "outputs": [],
   "source": [
    "def patternCount(text, pattern):\n",
    "    count = 0\n",
    "    for i in range(len(text) - len(pattern) + 1):\n",
    "        if text[i:(i+len(pattern))] == pattern:\n",
    "            count += 1\n",
    "    return count"
   ],
   "metadata": {
    "collapsed": false,
    "pycharm": {
     "name": "#%%\n"
    }
   }
  },
  {
   "cell_type": "code",
   "execution_count": 140,
   "outputs": [],
   "source": [
    "def frequentWords(text, k):\n",
    "    count = [[]]\n",
    "    for i in range(len(text) - k + 1):\n",
    "        pattern = text[i:i+k]\n",
    "        count_entry = patternCount(text, pattern)\n",
    "        count.append([count_entry, pattern])\n",
    "    count_df = pd.DataFrame(count, columns=['count','pattern'])\n",
    "    maxCount = count_df['count'].max()\n",
    "    max_vals = count_df.loc[count_df['count'] == maxCount]\n",
    "    frequentPatterns = pd.unique(list(max_vals['pattern']))\n",
    "    return frequentPatterns"
   ],
   "metadata": {
    "collapsed": false,
    "pycharm": {
     "name": "#%%\n"
    }
   }
  },
  {
   "cell_type": "code",
   "execution_count": 141,
   "outputs": [
    {
     "name": "stdout",
     "output_type": "stream",
     "text": [
      "['TTAGCCTGGCCC' 'TAGCCTGGCCCC' 'AGCCTGGCCCCT' 'GCCTGGCCCCTC'\n",
      " 'CCTGGCCCCTCG']\n"
     ]
    }
   ],
   "source": [
    "print(frequentWords(text_pattern, k_mer))"
   ],
   "metadata": {
    "collapsed": false,
    "pycharm": {
     "name": "#%%\n"
    }
   }
  }
 ],
 "metadata": {
  "kernelspec": {
   "name": "pooling_nb",
   "language": "python",
   "display_name": "pooling_nb"
  },
  "language_info": {
   "codemirror_mode": {
    "name": "ipython",
    "version": 3
   },
   "file_extension": ".py",
   "mimetype": "text/x-python",
   "name": "python",
   "nbconvert_exporter": "python",
   "pygments_lexer": "ipython3",
   "version": "3.9.7"
  },
  "toc": {
   "base_numbering": 1,
   "nav_menu": {},
   "number_sections": true,
   "sideBar": true,
   "skip_h1_title": false,
   "title_cell": "Table of Contents",
   "title_sidebar": "Contents",
   "toc_cell": false,
   "toc_position": {},
   "toc_section_display": true,
   "toc_window_display": false
  }
 },
 "nbformat": 4,
 "nbformat_minor": 1
}