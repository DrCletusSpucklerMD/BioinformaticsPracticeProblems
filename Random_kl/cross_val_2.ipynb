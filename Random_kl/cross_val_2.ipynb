{
 "cells": [
  {
   "cell_type": "code",
   "execution_count": 25,
   "outputs": [],
   "source": [
    "#import libraries\n",
    "import pandas as pd\n",
    "import scipy.stats as stats\n",
    "import numpy as np\n",
    "import os\n",
    "import matplotlib.pyplot as plt\n",
    "import seaborn as sns\n",
    "import scipy.stats as stats\n",
    "import string\n"
   ],
   "metadata": {
    "collapsed": false,
    "pycharm": {
     "name": "#%%\n"
    }
   }
  },
  {
   "cell_type": "code",
   "execution_count": 26,
   "outputs": [],
   "source": [
    "# Load in pre-modified RTqPCR data"
   ],
   "metadata": {
    "collapsed": false,
    "pycharm": {
     "name": "#%%\n"
    }
   }
  },
  {
   "cell_type": "code",
   "execution_count": 27,
   "outputs": [],
   "source": [
    "BioRad_plate_map_fp = './raw_BioRad.csv'\n",
    "\n",
    "if not os.path.isfile(BioRad_plate_map_fp):\n",
    "    print(\"Problem! %s is not a path to a valid file\")"
   ],
   "metadata": {
    "collapsed": false,
    "pycharm": {
     "name": "#%%\n"
    }
   }
  },
  {
   "cell_type": "code",
   "execution_count": 28,
   "outputs": [],
   "source": [
    "BioRad_plate_df = pd.read_csv(BioRad_plate_map_fp)"
   ],
   "metadata": {
    "collapsed": false,
    "pycharm": {
     "name": "#%%\n"
    }
   }
  },
  {
   "cell_type": "code",
   "execution_count": 29,
   "outputs": [
    {
     "data": {
      "text/plain": "  Well      Fluor  Target Content  Sample  Biological Set Name  BioRad Cq  \\\n0  A01        Cy5     NaN    Unkn     NaN                  NaN        NaN   \n1  A01        FAM     NaN    Unkn     NaN                  NaN  31.068233   \n2  A01        HEX     NaN    Unkn     NaN                  NaN  30.651172   \n3  A01  Texas Red     NaN    Unkn     NaN                  NaN        NaN   \n4  A02        Cy5     NaN    Unkn     NaN                  NaN        NaN   \n\n     Cq Mean  Cq Std. Dev  Starting Quantity (SQ)  Log Starting Quantity  \\\n0   0.000000            0                     NaN                    NaN   \n1  31.068233            0                     NaN                    NaN   \n2  30.651172            0                     NaN                    NaN   \n3   0.000000            0                     NaN                    NaN   \n4   0.000000            0                     NaN                    NaN   \n\n   SQ Mean  SQ Std. Dev  Set Point  Well Note  \n0      0.0            0         55        NaN  \n1      NaN            0         55        NaN  \n2      NaN            0         55        NaN  \n3      0.0            0         55        NaN  \n4      0.0            0         55        NaN  ",
      "text/html": "<div>\n<style scoped>\n    .dataframe tbody tr th:only-of-type {\n        vertical-align: middle;\n    }\n\n    .dataframe tbody tr th {\n        vertical-align: top;\n    }\n\n    .dataframe thead th {\n        text-align: right;\n    }\n</style>\n<table border=\"1\" class=\"dataframe\">\n  <thead>\n    <tr style=\"text-align: right;\">\n      <th></th>\n      <th>Well</th>\n      <th>Fluor</th>\n      <th>Target</th>\n      <th>Content</th>\n      <th>Sample</th>\n      <th>Biological Set Name</th>\n      <th>BioRad Cq</th>\n      <th>Cq Mean</th>\n      <th>Cq Std. Dev</th>\n      <th>Starting Quantity (SQ)</th>\n      <th>Log Starting Quantity</th>\n      <th>SQ Mean</th>\n      <th>SQ Std. Dev</th>\n      <th>Set Point</th>\n      <th>Well Note</th>\n    </tr>\n  </thead>\n  <tbody>\n    <tr>\n      <th>0</th>\n      <td>A01</td>\n      <td>Cy5</td>\n      <td>NaN</td>\n      <td>Unkn</td>\n      <td>NaN</td>\n      <td>NaN</td>\n      <td>NaN</td>\n      <td>0.000000</td>\n      <td>0</td>\n      <td>NaN</td>\n      <td>NaN</td>\n      <td>0.0</td>\n      <td>0</td>\n      <td>55</td>\n      <td>NaN</td>\n    </tr>\n    <tr>\n      <th>1</th>\n      <td>A01</td>\n      <td>FAM</td>\n      <td>NaN</td>\n      <td>Unkn</td>\n      <td>NaN</td>\n      <td>NaN</td>\n      <td>31.068233</td>\n      <td>31.068233</td>\n      <td>0</td>\n      <td>NaN</td>\n      <td>NaN</td>\n      <td>NaN</td>\n      <td>0</td>\n      <td>55</td>\n      <td>NaN</td>\n    </tr>\n    <tr>\n      <th>2</th>\n      <td>A01</td>\n      <td>HEX</td>\n      <td>NaN</td>\n      <td>Unkn</td>\n      <td>NaN</td>\n      <td>NaN</td>\n      <td>30.651172</td>\n      <td>30.651172</td>\n      <td>0</td>\n      <td>NaN</td>\n      <td>NaN</td>\n      <td>NaN</td>\n      <td>0</td>\n      <td>55</td>\n      <td>NaN</td>\n    </tr>\n    <tr>\n      <th>3</th>\n      <td>A01</td>\n      <td>Texas Red</td>\n      <td>NaN</td>\n      <td>Unkn</td>\n      <td>NaN</td>\n      <td>NaN</td>\n      <td>NaN</td>\n      <td>0.000000</td>\n      <td>0</td>\n      <td>NaN</td>\n      <td>NaN</td>\n      <td>0.0</td>\n      <td>0</td>\n      <td>55</td>\n      <td>NaN</td>\n    </tr>\n    <tr>\n      <th>4</th>\n      <td>A02</td>\n      <td>Cy5</td>\n      <td>NaN</td>\n      <td>Unkn</td>\n      <td>NaN</td>\n      <td>NaN</td>\n      <td>NaN</td>\n      <td>0.000000</td>\n      <td>0</td>\n      <td>NaN</td>\n      <td>NaN</td>\n      <td>0.0</td>\n      <td>0</td>\n      <td>55</td>\n      <td>NaN</td>\n    </tr>\n  </tbody>\n</table>\n</div>"
     },
     "execution_count": 29,
     "metadata": {},
     "output_type": "execute_result"
    }
   ],
   "source": [
    "BioRad_plate_df.head()"
   ],
   "metadata": {
    "collapsed": false,
    "pycharm": {
     "name": "#%%\n"
    }
   }
  },
  {
   "cell_type": "code",
   "execution_count": 40,
   "outputs": [
    {
     "name": "stdout",
     "output_type": "stream",
     "text": [
      "65\n"
     ]
    },
    {
     "data": {
      "text/plain": "     Well Fluor  Target Content  Sample  Biological Set Name  BioRad Cq  \\\n0     NaN   NaN     NaN     NaN     NaN                  NaN        NaN   \n1     A01   FAM     NaN    Unkn     NaN                  NaN  31.068233   \n2     NaN   NaN     NaN     NaN     NaN                  NaN        NaN   \n3     NaN   NaN     NaN     NaN     NaN                  NaN        NaN   \n4     NaN   NaN     NaN     NaN     NaN                  NaN        NaN   \n...   ...   ...     ...     ...     ...                  ...        ...   \n1531  NaN   NaN     NaN     NaN     NaN                  NaN        NaN   \n1532  NaN   NaN     NaN     NaN     NaN                  NaN        NaN   \n1533  P24   FAM     NaN    Unkn     NaN                  NaN        NaN   \n1534  NaN   NaN     NaN     NaN     NaN                  NaN        NaN   \n1535  NaN   NaN     NaN     NaN     NaN                  NaN        NaN   \n\n        Cq Mean  Cq Std. Dev  Starting Quantity (SQ)  Log Starting Quantity  \\\n0           NaN          NaN                     NaN                    NaN   \n1     31.068233          0.0                     NaN                    NaN   \n2           NaN          NaN                     NaN                    NaN   \n3           NaN          NaN                     NaN                    NaN   \n4           NaN          NaN                     NaN                    NaN   \n...         ...          ...                     ...                    ...   \n1531        NaN          NaN                     NaN                    NaN   \n1532        NaN          NaN                     NaN                    NaN   \n1533   0.000000          0.0                     NaN                    NaN   \n1534        NaN          NaN                     NaN                    NaN   \n1535        NaN          NaN                     NaN                    NaN   \n\n      SQ Mean  SQ Std. Dev  Set Point  Well Note  \n0         NaN          NaN        NaN        NaN  \n1         NaN          0.0       55.0        NaN  \n2         NaN          NaN        NaN        NaN  \n3         NaN          NaN        NaN        NaN  \n4         NaN          NaN        NaN        NaN  \n...       ...          ...        ...        ...  \n1531      NaN          NaN        NaN        NaN  \n1532      NaN          NaN        NaN        NaN  \n1533      0.0          0.0       55.0        NaN  \n1534      NaN          NaN        NaN        NaN  \n1535      NaN          NaN        NaN        NaN  \n\n[1536 rows x 15 columns]",
      "text/html": "<div>\n<style scoped>\n    .dataframe tbody tr th:only-of-type {\n        vertical-align: middle;\n    }\n\n    .dataframe tbody tr th {\n        vertical-align: top;\n    }\n\n    .dataframe thead th {\n        text-align: right;\n    }\n</style>\n<table border=\"1\" class=\"dataframe\">\n  <thead>\n    <tr style=\"text-align: right;\">\n      <th></th>\n      <th>Well</th>\n      <th>Fluor</th>\n      <th>Target</th>\n      <th>Content</th>\n      <th>Sample</th>\n      <th>Biological Set Name</th>\n      <th>BioRad Cq</th>\n      <th>Cq Mean</th>\n      <th>Cq Std. Dev</th>\n      <th>Starting Quantity (SQ)</th>\n      <th>Log Starting Quantity</th>\n      <th>SQ Mean</th>\n      <th>SQ Std. Dev</th>\n      <th>Set Point</th>\n      <th>Well Note</th>\n    </tr>\n  </thead>\n  <tbody>\n    <tr>\n      <th>0</th>\n      <td>NaN</td>\n      <td>NaN</td>\n      <td>NaN</td>\n      <td>NaN</td>\n      <td>NaN</td>\n      <td>NaN</td>\n      <td>NaN</td>\n      <td>NaN</td>\n      <td>NaN</td>\n      <td>NaN</td>\n      <td>NaN</td>\n      <td>NaN</td>\n      <td>NaN</td>\n      <td>NaN</td>\n      <td>NaN</td>\n    </tr>\n    <tr>\n      <th>1</th>\n      <td>A01</td>\n      <td>FAM</td>\n      <td>NaN</td>\n      <td>Unkn</td>\n      <td>NaN</td>\n      <td>NaN</td>\n      <td>31.068233</td>\n      <td>31.068233</td>\n      <td>0.0</td>\n      <td>NaN</td>\n      <td>NaN</td>\n      <td>NaN</td>\n      <td>0.0</td>\n      <td>55.0</td>\n      <td>NaN</td>\n    </tr>\n    <tr>\n      <th>2</th>\n      <td>NaN</td>\n      <td>NaN</td>\n      <td>NaN</td>\n      <td>NaN</td>\n      <td>NaN</td>\n      <td>NaN</td>\n      <td>NaN</td>\n      <td>NaN</td>\n      <td>NaN</td>\n      <td>NaN</td>\n      <td>NaN</td>\n      <td>NaN</td>\n      <td>NaN</td>\n      <td>NaN</td>\n      <td>NaN</td>\n    </tr>\n    <tr>\n      <th>3</th>\n      <td>NaN</td>\n      <td>NaN</td>\n      <td>NaN</td>\n      <td>NaN</td>\n      <td>NaN</td>\n      <td>NaN</td>\n      <td>NaN</td>\n      <td>NaN</td>\n      <td>NaN</td>\n      <td>NaN</td>\n      <td>NaN</td>\n      <td>NaN</td>\n      <td>NaN</td>\n      <td>NaN</td>\n      <td>NaN</td>\n    </tr>\n    <tr>\n      <th>4</th>\n      <td>NaN</td>\n      <td>NaN</td>\n      <td>NaN</td>\n      <td>NaN</td>\n      <td>NaN</td>\n      <td>NaN</td>\n      <td>NaN</td>\n      <td>NaN</td>\n      <td>NaN</td>\n      <td>NaN</td>\n      <td>NaN</td>\n      <td>NaN</td>\n      <td>NaN</td>\n      <td>NaN</td>\n      <td>NaN</td>\n    </tr>\n    <tr>\n      <th>...</th>\n      <td>...</td>\n      <td>...</td>\n      <td>...</td>\n      <td>...</td>\n      <td>...</td>\n      <td>...</td>\n      <td>...</td>\n      <td>...</td>\n      <td>...</td>\n      <td>...</td>\n      <td>...</td>\n      <td>...</td>\n      <td>...</td>\n      <td>...</td>\n      <td>...</td>\n    </tr>\n    <tr>\n      <th>1531</th>\n      <td>NaN</td>\n      <td>NaN</td>\n      <td>NaN</td>\n      <td>NaN</td>\n      <td>NaN</td>\n      <td>NaN</td>\n      <td>NaN</td>\n      <td>NaN</td>\n      <td>NaN</td>\n      <td>NaN</td>\n      <td>NaN</td>\n      <td>NaN</td>\n      <td>NaN</td>\n      <td>NaN</td>\n      <td>NaN</td>\n    </tr>\n    <tr>\n      <th>1532</th>\n      <td>NaN</td>\n      <td>NaN</td>\n      <td>NaN</td>\n      <td>NaN</td>\n      <td>NaN</td>\n      <td>NaN</td>\n      <td>NaN</td>\n      <td>NaN</td>\n      <td>NaN</td>\n      <td>NaN</td>\n      <td>NaN</td>\n      <td>NaN</td>\n      <td>NaN</td>\n      <td>NaN</td>\n      <td>NaN</td>\n    </tr>\n    <tr>\n      <th>1533</th>\n      <td>P24</td>\n      <td>FAM</td>\n      <td>NaN</td>\n      <td>Unkn</td>\n      <td>NaN</td>\n      <td>NaN</td>\n      <td>NaN</td>\n      <td>0.000000</td>\n      <td>0.0</td>\n      <td>NaN</td>\n      <td>NaN</td>\n      <td>0.0</td>\n      <td>0.0</td>\n      <td>55.0</td>\n      <td>NaN</td>\n    </tr>\n    <tr>\n      <th>1534</th>\n      <td>NaN</td>\n      <td>NaN</td>\n      <td>NaN</td>\n      <td>NaN</td>\n      <td>NaN</td>\n      <td>NaN</td>\n      <td>NaN</td>\n      <td>NaN</td>\n      <td>NaN</td>\n      <td>NaN</td>\n      <td>NaN</td>\n      <td>NaN</td>\n      <td>NaN</td>\n      <td>NaN</td>\n      <td>NaN</td>\n    </tr>\n    <tr>\n      <th>1535</th>\n      <td>NaN</td>\n      <td>NaN</td>\n      <td>NaN</td>\n      <td>NaN</td>\n      <td>NaN</td>\n      <td>NaN</td>\n      <td>NaN</td>\n      <td>NaN</td>\n      <td>NaN</td>\n      <td>NaN</td>\n      <td>NaN</td>\n      <td>NaN</td>\n      <td>NaN</td>\n      <td>NaN</td>\n      <td>NaN</td>\n    </tr>\n  </tbody>\n</table>\n<p>1536 rows × 15 columns</p>\n</div>"
     },
     "execution_count": 40,
     "metadata": {},
     "output_type": "execute_result"
    }
   ],
   "source": [
    "print(ord('A'))\n",
    "print()\n",
    "BioRad_plate_df.where(BioRad_plate_df['Fluor'] == 'FAM', axis=0)"
   ],
   "metadata": {
    "collapsed": false,
    "pycharm": {
     "name": "#%%\n"
    }
   }
  },
  {
   "cell_type": "code",
   "execution_count": 30,
   "outputs": [],
   "source": [
    "def plot_plate_vals(dataset, color_map='YlGnBu', annot_str=None,\n",
    "                    annot_fmt='.5s'):\n",
    "    \"\"\"\n",
    "    Plots values in a plate format. Returns a heatmap in the shape of the\n",
    "    plate, with bar graphs aligned to the rows and columns showing the mean and\n",
    "    spread of each row and column, and a histogram showing the distribution of\n",
    "    values.\n",
    "    Optionally can plot an array of names or other annotations on top of the\n",
    "    heatmap.\n",
    "    Parameters\n",
    "    ----------\n",
    "    dataset: 2D array of numeric\n",
    "        data to plot\n",
    "    color_map: str\n",
    "        matplotlib color map name for heatmap\n",
    "    annot_str: 2D array of str\n",
    "        values to write over heatmap values to annotate wells\n",
    "    annot_fmt: str\n",
    "        string formatting values for annotations. Defaults to first 5 char per\n",
    "        well.\n",
    "    Returns\n",
    "    -------\n",
    "    \"\"\"\n",
    "    plt.figure(figsize=(20, 20))\n",
    "\n",
    "    with sns.axes_style(\"white\"):\n",
    "        ax1 = plt.subplot2grid((40, 20), (20, 0), colspan=18, rowspan=18)\n",
    "        ax1.xaxis.tick_top()\n",
    "        if annot_str is None:\n",
    "            sns.heatmap(dataset,\n",
    "                        ax=ax1,\n",
    "                        xticklabels=[x + 1 for x in range(dataset.shape[1])],\n",
    "                        yticklabels=list(string.ascii_uppercase)[\n",
    "                            0:dataset.shape[0]],\n",
    "                        # square = True,\n",
    "                        annot=True,\n",
    "                        fmt='.0f',\n",
    "                        cmap=color_map,\n",
    "                        cbar=False)\n",
    "        else:\n",
    "            sns.heatmap(dataset,\n",
    "                        ax=ax1,\n",
    "                        xticklabels=[x + 1 for x in range(dataset.shape[1])],\n",
    "                        yticklabels=list(string.ascii_uppercase)[\n",
    "                            0:dataset.shape[0]],\n",
    "                        # square = True,\n",
    "                        annot=annot_str,\n",
    "                        fmt=annot_fmt,\n",
    "                        cmap=color_map,\n",
    "                        cbar=False)\n",
    "\n",
    "    with sns.axes_style(\"white\"):\n",
    "        ax2 = plt.subplot2grid((40, 20), (38, 0), colspan=18, rowspan=2)\n",
    "        ax3 = plt.subplot2grid((40, 20), (20, 18), colspan=2, rowspan=18)\n",
    "        sns.despine()\n",
    "        sns.barplot(data=dataset, orient='v', ax=ax2, color='grey')\n",
    "        sns.barplot(data=dataset.transpose(), orient='h', ax=ax3,\n",
    "                    color='grey')\n",
    "        ax2.set(xticklabels=[], yticklabels=[])\n",
    "        ax3.set(xticklabels=[], yticklabels=[])\n",
    "\n",
    "    with sns.axes_style():\n",
    "        ax4 = plt.subplot2grid((40, 20), (0, 0), colspan=18, rowspan=18)\n",
    "        sns.distplot(dataset.flatten()[~np.isnan(dataset.flatten())], ax=ax4,\n",
    "                     bins=20)\n",
    "\n",
    "    return"
   ],
   "metadata": {
    "collapsed": false,
    "pycharm": {
     "name": "#%%\n"
    }
   }
  },
  {
   "cell_type": "code",
   "execution_count": 31,
   "outputs": [],
   "source": [
    "def make_2D_array(qpcr, data_col='Cp', well_col='Pos', rows=16, cols=24):\n",
    "    \"\"\"\n",
    "    Pulls a column of data out of a dataframe and puts into array format\n",
    "    based on well IDs in another column\n",
    "    Parameters\n",
    "    ----------\n",
    "    qpcr: Pandas DataFrame\n",
    "        dataframe from which to pull values\n",
    "    data_col: str\n",
    "        name of column with data\n",
    "    well_col: str\n",
    "        name of column with well IDs, in 'A1,B12' format\n",
    "    rows: int\n",
    "        number of rows in array to return\n",
    "    cols: int\n",
    "        number of cols in array to return\n",
    "    Returns\n",
    "    -------\n",
    "    \"\"\"\n",
    "    # initialize empty Cp array\n",
    "    cp_array = np.empty((rows, cols), dtype=object)\n",
    "\n",
    "    # fill Cp array with the post-cleaned values from the right half of the\n",
    "    # plate\n",
    "    for record in qpcr.iterrows():\n",
    "        row = ord(str.upper(record[1][well_col][0])) - ord('A')\n",
    "        col = int(record[1][well_col][1:]) - 1\n",
    "        cp_array[row, col] = record[1][data_col]\n",
    "\n",
    "    return(cp_array)"
   ],
   "metadata": {
    "collapsed": false,
    "pycharm": {
     "name": "#%%\n"
    }
   }
  },
  {
   "cell_type": "code",
   "execution_count": 32,
   "outputs": [],
   "source": [
    "well_col = 'Well'"
   ],
   "metadata": {
    "collapsed": false,
    "pycharm": {
     "name": "#%%\n"
    }
   }
  },
  {
   "cell_type": "code",
   "execution_count": 34,
   "outputs": [
    {
     "data": {
      "text/plain": "array([[0., 0., 0., 0., 0., 0., 0., 0., 0., 0., 0., 0., 0., 0., 0., 0.,\n        0., 0., 0., 0., 0., 0., 0., 0.],\n       [0., 0., 0., 0., 0., 0., 0., 0., 0., 0., 0., 0., 0., 0., 0., 0.,\n        0., 0., 0., 0., 0., 0., 0., 0.],\n       [0., 0., 0., 0., 0., 0., 0., 0., 0., 0., 0., 0., 0., 0., 0., 0.,\n        0., 0., 0., 0., 0., 0., 0., 0.],\n       [0., 0., 0., 0., 0., 0., 0., 0., 0., 0., 0., 0., 0., 0., 0., 0.,\n        0., 0., 0., 0., 0., 0., 0., 0.],\n       [0., 0., 0., 0., 0., 0., 0., 0., 0., 0., 0., 0., 0., 0., 0., 0.,\n        0., 0., 0., 0., 0., 0., 0., 0.],\n       [0., 0., 0., 0., 0., 0., 0., 0., 0., 0., 0., 0., 0., 0., 0., 0.,\n        0., 0., 0., 0., 0., 0., 0., 0.],\n       [0., 0., 0., 0., 0., 0., 0., 0., 0., 0., 0., 0., 0., 0., 0., 0.,\n        0., 0., 0., 0., 0., 0., 0., 0.],\n       [0., 0., 0., 0., 0., 0., 0., 0., 0., 0., 0., 0., 0., 0., 0., 0.,\n        0., 0., 0., 0., 0., 0., 0., 0.],\n       [0., 0., 0., 0., 0., 0., 0., 0., 0., 0., 0., 0., 0., 0., 0., 0.,\n        0., 0., 0., 0., 0., 0., 0., 0.],\n       [0., 0., 0., 0., 0., 0., 0., 0., 0., 0., 0., 0., 0., 0., 0., 0.,\n        0., 0., 0., 0., 0., 0., 0., 0.],\n       [0., 0., 0., 0., 0., 0., 0., 0., 0., 0., 0., 0., 0., 0., 0., 0.,\n        0., 0., 0., 0., 0., 0., 0., 0.],\n       [0., 0., 0., 0., 0., 0., 0., 0., 0., 0., 0., 0., 0., 0., 0., 0.,\n        0., 0., 0., 0., 0., 0., 0., 0.],\n       [0., 0., 0., 0., 0., 0., 0., 0., 0., 0., 0., 0., 0., 0., 0., 0.,\n        0., 0., 0., 0., 0., 0., 0., 0.],\n       [0., 0., 0., 0., 0., 0., 0., 0., 0., 0., 0., 0., 0., 0., 0., 0.,\n        0., 0., 0., 0., 0., 0., 0., 0.],\n       [0., 0., 0., 0., 0., 0., 0., 0., 0., 0., 0., 0., 0., 0., 0., 0.,\n        0., 0., 0., 0., 0., 0., 0., 0.],\n       [0., 0., 0., 0., 0., 0., 0., 0., 0., 0., 0., 0., 0., 0., 0., 0.,\n        0., 0., 0., 0., 0., 0., 0., 0.]])"
     },
     "execution_count": 34,
     "metadata": {},
     "output_type": "execute_result"
    }
   ],
   "source": [
    "# get DNA concentratin information\n",
    "qpcr = make_2D_array(BioRad_plate_df, data_col='Cq Mean', well_col=well_col).astype(float)\n",
    "\n",
    "qpcr"
   ],
   "metadata": {
    "collapsed": false,
    "pycharm": {
     "name": "#%%\n"
    }
   }
  },
  {
   "cell_type": "code",
   "execution_count": 35,
   "outputs": [
    {
     "name": "stderr",
     "output_type": "stream",
     "text": [
      "/Users/htubb/miniconda3/envs/pooling_nb/lib/python3.9/site-packages/seaborn/distributions.py:2619: FutureWarning: `distplot` is a deprecated function and will be removed in a future version. Please adapt your code to use either `displot` (a figure-level function with similar flexibility) or `histplot` (an axes-level function for histograms).\n",
      "  warnings.warn(msg, FutureWarning)\n",
      "/Users/htubb/miniconda3/envs/pooling_nb/lib/python3.9/site-packages/seaborn/distributions.py:316: UserWarning: Dataset has 0 variance; skipping density estimate. Pass `warn_singular=False` to disable this warning.\n",
      "  warnings.warn(msg, UserWarning)\n"
     ]
    },
    {
     "data": {
      "text/plain": "<Figure size 1440x1440 with 4 Axes>",
      "image/png": "[encoded data removed]"
     },
     "metadata": {
      "needs_background": "light"
     },
     "output_type": "display_data"
    }
   ],
   "source": [
    "# get information for annotation\n",
    "names = make_2D_array(BioRad_plate_df, data_col='Well', well_col=well_col)\n",
    "\n",
    "\n",
    "plot_plate_vals(qpcr,\n",
    "                annot_str=names,\n",
    "                color_map='viridis',\n",
    "                annot_fmt='.5s')"
   ],
   "metadata": {
    "collapsed": false,
    "pycharm": {
     "name": "#%%\n"
    }
   }
  },
  {
   "cell_type": "code",
   "execution_count": null,
   "outputs": [],
   "source": [
    "# get DNA concentratin information\n",
    "dna_concs = make_2D_array(plate_df, data_col='Sample DNA Concentration', well_col=Well).astype(float)"
   ],
   "metadata": {
    "collapsed": false,
    "pycharm": {
     "name": "#%%\n"
    }
   }
  },
  {
   "cell_type": "code",
   "execution_count": null,
   "outputs": [],
   "source": [
    "# get information for annotation\n",
    "names = make_2D_array(plate_df, data_col='Sample', well_col=well_col)\n",
    "\n",
    "clip = np.clip(dna_concs, 0, 30)\n",
    "plot_plate_vals(clip,\n",
    "                annot_str=names,\n",
    "                color_map='viridis',\n",
    "                annot_fmt='.5s')"
   ],
   "metadata": {
    "collapsed": false,
    "pycharm": {
     "name": "#%%\n"
    }
   }
  },
  {
   "cell_type": "code",
   "execution_count": null,
   "outputs": [],
   "source": [
    "Thermo_plate_map_fp = './raw_Thermo.csv'"
   ],
   "metadata": {
    "collapsed": false,
    "pycharm": {
     "name": "#%%\n"
    }
   }
  },
  {
   "cell_type": "code",
   "execution_count": null,
   "outputs": [],
   "source": [
    "if not os.path.isfile(Thermo_plate_map_fp):\n",
    "    print(\"Problem! %s is not a path to a valid file\")"
   ],
   "metadata": {
    "collapsed": false,
    "pycharm": {
     "name": "#%%\n"
    }
   }
  },
  {
   "cell_type": "code",
   "execution_count": null,
   "outputs": [],
   "source": [
    "Thermo_plate_df = pd.read_csv(plate_map_fp)"
   ],
   "metadata": {
    "collapsed": false,
    "pycharm": {
     "name": "#%%\n"
    }
   }
  },
  {
   "cell_type": "code",
   "execution_count": null,
   "outputs": [],
   "source": [
    "Thermo_plate_df.head()"
   ],
   "metadata": {
    "collapsed": false,
    "pycharm": {
     "name": "#%%\n"
    }
   }
  },
  {
   "cell_type": "markdown",
   "source": [
    "# Old Notebook"
   ],
   "metadata": {
    "collapsed": false,
    "pycharm": {
     "name": "#%% md\n"
    }
   }
  },
  {
   "cell_type": "code",
   "execution_count": null,
   "outputs": [],
   "source": [
    "plate_map_fp = './QS7_WW_qPCR_20220802_144252_Results_20220802 160258_.csv'\n",
    "\n",
    "if not os.path.isfile(plate_map_fp):\n",
    "    print(\"Problem! %s is not a path to a valid file\")"
   ],
   "metadata": {
    "collapsed": false,
    "pycharm": {
     "name": "#%%\n"
    }
   }
  },
  {
   "cell_type": "code",
   "execution_count": null,
   "outputs": [],
   "source": [
    "plate_df = pd.read_csv(plate_map_fp)"
   ],
   "metadata": {
    "collapsed": false,
    "pycharm": {
     "name": "#%%\n"
    }
   }
  },
  {
   "cell_type": "code",
   "execution_count": null,
   "outputs": [],
   "source": [
    "plate_df.head()"
   ],
   "metadata": {
    "collapsed": false,
    "pycharm": {
     "name": "#%%\n"
    }
   }
  },
  {
   "cell_type": "code",
   "execution_count": null,
   "outputs": [],
   "source": [
    "plate_df_updated = plate_df.drop('Unnamed: 15',axis=1)\n",
    "plate_df_updated = plate_df_updated.drop('Unnamed: 16',axis=1)\n",
    "plate_df_updated = plate_df_updated.drop('Task',axis=1)\n",
    "plate_df_updated = plate_df_updated.drop('Quencher',axis=1)\n",
    "plate_df_updated = plate_df_updated.drop('Omit',axis=1)\n",
    "plate_df_updated = plate_df_updated.drop('Well',axis=1)\n",
    "plate_df_updated = plate_df_updated.drop('Cq SD',axis=1)\n",
    "plate_df_updated"
   ],
   "metadata": {
    "collapsed": false,
    "pycharm": {
     "name": "#%%\n"
    }
   }
  },
  {
   "cell_type": "code",
   "execution_count": null,
   "outputs": [],
   "source": [
    "plate_df_updated['Error'] = plate_df_updated['BioRad Cq'] - plate_df_updated['Thermo Cq']\n",
    "plate_df_updated"
   ],
   "metadata": {
    "collapsed": false,
    "pycharm": {
     "name": "#%%\n"
    }
   }
  },
  {
   "cell_type": "code",
   "execution_count": null,
   "outputs": [],
   "source": [
    "print(\"mean error: \", plate_df_updated['Error'].mean())"
   ],
   "metadata": {
    "collapsed": false,
    "pycharm": {
     "name": "#%%\n"
    }
   }
  },
  {
   "cell_type": "code",
   "execution_count": null,
   "outputs": [],
   "source": [
    "print(\"median error: \", plate_df_updated['Error'].median())"
   ],
   "metadata": {
    "collapsed": false,
    "pycharm": {
     "name": "#%%\n"
    }
   }
  },
  {
   "cell_type": "markdown",
   "source": [
    "# Check that residuals are normally distributed"
   ],
   "metadata": {
    "collapsed": false,
    "pycharm": {
     "name": "#%% md\n"
    }
   }
  },
  {
   "cell_type": "code",
   "execution_count": null,
   "outputs": [],
   "source": [
    "plate_df_updated['Error'].hist()\n",
    "\n",
    "BioRad = plate_df_updated['BioRad Cq']\n",
    "Thermo = plate_df_updated['Thermo Cq']"
   ],
   "metadata": {
    "collapsed": false,
    "pycharm": {
     "name": "#%%\n"
    }
   }
  },
  {
   "cell_type": "code",
   "execution_count": null,
   "outputs": [],
   "source": [
    "print(\"BioRad Mean Cq:\" , BioRad.mean(),\n",
    "      \", Thermo Mean Cq: \", Thermo.mean())"
   ],
   "metadata": {
    "collapsed": false,
    "pycharm": {
     "name": "#%%\n"
    }
   }
  },
  {
   "cell_type": "code",
   "execution_count": null,
   "outputs": [],
   "source": [
    "print(\"BioRad Cq st_dev: \", np.std(BioRad),\n",
    "      \", Thermo Cq st_dev: \", np.std(Thermo))"
   ],
   "metadata": {
    "collapsed": false,
    "pycharm": {
     "name": "#%%\n"
    }
   }
  },
  {
   "cell_type": "code",
   "execution_count": null,
   "outputs": [],
   "source": [
    "data = {\n",
    "    'BioRad': BioRad,\n",
    "    'Thermo': Thermo\n",
    "}"
   ],
   "metadata": {
    "collapsed": false,
    "pycharm": {
     "name": "#%%\n"
    }
   }
  },
  {
   "cell_type": "code",
   "execution_count": null,
   "outputs": [],
   "source": [
    "barchart_df = pd.DataFrame(data)\n",
    "\n",
    "ax = sns.boxplot(data = barchart_df)\n",
    "ax = sns.swarmplot(data = barchart_df, edgecolor=\"black\", linewidth=0.9)\n",
    "ax.set(xlabel='Instrument', ylabel='Cq', title='Cq Distribution')\n",
    "\n",
    "plt.hist(data['BioRad'], alpha=0.5, label='BioRad')\n",
    "plt.hist(data['Thermo'], alpha=0.5, label='Thermo')\n",
    "plt.legend(loc='upper right')\n",
    "plt.xlabel('Cq')\n",
    "plt.ylabel('Frequency')\n",
    "plt.title('Cq Distribution')"
   ],
   "metadata": {
    "collapsed": false,
    "pycharm": {
     "name": "#%%\n"
    }
   }
  },
  {
   "cell_type": "code",
   "execution_count": null,
   "outputs": [],
   "source": [
    "bad = ~np.logical_or(np.isnan(barchart_df['BioRad']), np.isnan(barchart_df['Thermo']))\n",
    "masked_nan_df = barchart_df[bad]\n",
    "masked_nan_df"
   ],
   "metadata": {
    "collapsed": false,
    "pycharm": {
     "name": "#%%\n"
    }
   }
  },
  {
   "cell_type": "code",
   "execution_count": null,
   "outputs": [],
   "source": [
    "r, p = stats.pearsonr(masked_nan_df['BioRad'], masked_nan_df['Thermo'])\n",
    "\n",
    "slope, intercept, r_value, p_value, std_err = stats.linregress(masked_nan_df['BioRad'],masked_nan_df['Thermo'])\n",
    "\n",
    "print(r_value,p_value)"
   ],
   "metadata": {
    "collapsed": false,
    "pycharm": {
     "name": "#%%\n"
    }
   }
  },
  {
   "cell_type": "code",
   "execution_count": null,
   "outputs": [],
   "source": [
    "corr_plot = sns.jointplot(BioRad, Thermo, kind='reg')\n",
    "string_title = \"r= \" + str(round(r, 3)) + \", p= \" + str(p)\n",
    "\n",
    "ax = plt.gca()\n",
    "ax.legend({\"y={0:.3f}x{1:.3f}\".format(slope,intercept)})\n",
    "\n",
    "corr_plot.fig.suptitle(string_title, fontsize=10, y=0)"
   ],
   "metadata": {
    "collapsed": false,
    "pycharm": {
     "name": "#%%\n"
    }
   }
  },
  {
   "cell_type": "code",
   "execution_count": null,
   "outputs": [],
   "source": [
    "barchart_df.describe()"
   ],
   "metadata": {
    "collapsed": false,
    "pycharm": {
     "name": "#%%\n"
    }
   }
  },
  {
   "cell_type": "code",
   "execution_count": null,
   "outputs": [],
   "source": [
    "stats.shapiro(masked_nan_df['BioRad'])"
   ],
   "metadata": {
    "collapsed": false,
    "pycharm": {
     "name": "#%%\n"
    }
   }
  },
  {
   "cell_type": "code",
   "execution_count": null,
   "outputs": [],
   "source": [
    "stats.shapiro(masked_nan_df['Thermo'])"
   ],
   "metadata": {
    "collapsed": false,
    "pycharm": {
     "name": "#%%\n"
    }
   }
  },
  {
   "cell_type": "code",
   "execution_count": null,
   "outputs": [],
   "source": [
    "stats.ttest_rel(masked_nan_df['BioRad'], masked_nan_df['Thermo'])"
   ],
   "metadata": {
    "collapsed": false,
    "pycharm": {
     "name": "#%%\n"
    }
   }
  },
  {
   "cell_type": "code",
   "execution_count": null,
   "outputs": [],
   "source": [
    "BioRadStd = np.std(BioRad)\n",
    "print(BioRadStd)"
   ],
   "metadata": {
    "collapsed": false,
    "pycharm": {
     "name": "#%%\n"
    }
   }
  },
  {
   "cell_type": "code",
   "execution_count": null,
   "outputs": [],
   "source": [
    "variance_data = {\n",
    "    'BioRad Variance': (BioRad - (np.std(BioRad))^2),\n",
    "    'Thermo Variance': (Thermo - (np.std(Thermo))^2)\n",
    "}"
   ],
   "metadata": {
    "collapsed": false,
    "pycharm": {
     "name": "#%%\n"
    }
   }
  },
  {
   "cell_type": "code",
   "execution_count": null,
   "outputs": [],
   "source": [
    "plt.hist(variance_data['BioRad Variance'], alpha=0.5, label='BioRad')\n",
    "plt.hist(variance_data['Thermo Variance'], alpha=0.5, label='Thermo')\n",
    "plt.legend(loc='upper right')\n",
    "plt.title(label=\"Distribution of Variances\")"
   ],
   "metadata": {
    "collapsed": false,
    "pycharm": {
     "name": "#%%\n"
    }
   }
  },
  {
   "cell_type": "markdown",
   "source": [
    "# Proceed with ANOVA!"
   ],
   "metadata": {
    "collapsed": false,
    "pycharm": {
     "name": "#%% md\n"
    }
   }
  }
 ],
 "metadata": {
  "kernelspec": {
   "name": "pooling_nb",
   "language": "python",
   "display_name": "pooling_nb"
  },
  "language_info": {
   "codemirror_mode": {
    "name": "ipython",
    "version": 2
   },
   "file_extension": ".py",
   "mimetype": "text/x-python",
   "name": "python",
   "nbconvert_exporter": "python",
   "pygments_lexer": "ipython2",
   "version": "2.7.6"
  }
 },
 "nbformat": 4,
 "nbformat_minor": 0
}