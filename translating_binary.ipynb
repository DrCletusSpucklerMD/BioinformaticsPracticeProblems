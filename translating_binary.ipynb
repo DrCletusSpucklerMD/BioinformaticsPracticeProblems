{
 "cells": [
  {
   "cell_type": "code",
   "execution_count": null,
   "metadata": {
    "collapsed": true
   },
   "outputs": [],
   "source": [
    "A = 1000001\n",
    "B = 1000010\n",
    "C = 1000011\n",
    "D = 1000001\n",
    "E =\n",
    "F =\n",
    "G =\n",
    "H =\n",
    "I =\n",
    "J =\n",
    "K =\n",
    "L =\n",
    "M =\n",
    "N =\n",
    "O =\n",
    "P =\n",
    "Q =\n",
    "R =\n",
    "S =\n",
    "T =\n",
    "U =\n",
    "V =\n",
    "W =\n",
    "Y =\n",
    "Z ="
   ]
  }
 ],
 "metadata": {
  "kernelspec": {
   "display_name": "Python 3",
   "language": "python",
   "name": "python3"
  },
  "language_info": {
   "codemirror_mode": {
    "name": "ipython",
    "version": 2
   },
   "file_extension": ".py",
   "mimetype": "text/x-python",
   "name": "python",
   "nbconvert_exporter": "python",
   "pygments_lexer": "ipython2",
   "version": "2.7.6"
  }
 },
 "nbformat": 4,
 "nbformat_minor": 0
}