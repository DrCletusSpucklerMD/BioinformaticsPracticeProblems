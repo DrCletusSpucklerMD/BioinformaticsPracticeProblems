{
 "cells": [
  {
   "cell_type": "code",
   "execution_count": 1,
   "metadata": {
    "collapsed": true,
    "pycharm": {
     "name": "#%%\n"
    }
   },
   "outputs": [],
   "source": [
    "import pandas as pd\n",
    "import numpy as np"
   ]
  },
  {
   "cell_type": "code",
   "execution_count": 68,
   "outputs": [],
   "source": [
    "def Rabbits(n, k):\n",
    "    if n <= 2:\n",
    "        rabbits = 1\n",
    "    else:\n",
    "        rabbits = Rabbits((n-1),k) + k\n",
    "        print(n, \" \", rabbits, \" = \", Rabbits((n-1),k))\n",
    "    return rabbits"
   ],
   "metadata": {
    "collapsed": false,
    "pycharm": {
     "name": "#%%\n"
    }
   }
  },
  {
   "cell_type": "code",
   "execution_count": 69,
   "outputs": [
    {
     "name": "stdout",
     "output_type": "stream",
     "text": [
      "3   4  =  1\n",
      "3   4  =  1\n",
      "4   7  =  4\n",
      "3   4  =  1\n",
      "3   4  =  1\n",
      "4   7  =  4\n",
      "5   10  =  7\n",
      "3   4  =  1\n",
      "3   4  =  1\n",
      "4   7  =  4\n",
      "3   4  =  1\n",
      "3   4  =  1\n",
      "4   7  =  4\n",
      "5   10  =  7\n",
      "6   13  =  10\n",
      "3   4  =  1\n",
      "3   4  =  1\n",
      "4   7  =  4\n",
      "3   4  =  1\n",
      "3   4  =  1\n",
      "4   7  =  4\n",
      "5   10  =  7\n",
      "3   4  =  1\n",
      "3   4  =  1\n",
      "4   7  =  4\n",
      "3   4  =  1\n",
      "3   4  =  1\n",
      "4   7  =  4\n",
      "5   10  =  7\n",
      "6   13  =  10\n",
      "7   16  =  13\n"
     ]
    },
    {
     "data": {
      "text/plain": "16"
     },
     "execution_count": 69,
     "metadata": {},
     "output_type": "execute_result"
    }
   ],
   "source": [
    "Rabbits(7,3)"
   ],
   "metadata": {
    "collapsed": false,
    "pycharm": {
     "name": "#%%\n"
    }
   }
  },
  {
   "cell_type": "code",
   "execution_count": 64,
   "outputs": [],
   "source": [],
   "metadata": {
    "collapsed": false,
    "pycharm": {
     "name": "#%%\n"
    }
   }
  },
  {
   "cell_type": "code",
   "execution_count": 12,
   "outputs": [],
   "source": [],
   "metadata": {
    "collapsed": false,
    "pycharm": {
     "name": "#%%\n"
    }
   }
  }
 ],
 "metadata": {
  "kernelspec": {
   "display_name": "Python 3",
   "language": "python",
   "name": "python3"
  },
  "language_info": {
   "codemirror_mode": {
    "name": "ipython",
    "version": 2
   },
   "file_extension": ".py",
   "mimetype": "text/x-python",
   "name": "python",
   "nbconvert_exporter": "python",
   "pygments_lexer": "ipython2",
   "version": "2.7.6"
  }
 },
 "nbformat": 4,
 "nbformat_minor": 0
}