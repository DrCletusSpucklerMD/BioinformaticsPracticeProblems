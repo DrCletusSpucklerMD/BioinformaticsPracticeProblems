{
 "cells": [
  {
   "cell_type": "code",
   "execution_count": 159,
   "outputs": [],
   "source": [
    "with open(\"./rosalind_prot.txt\") as text:\n",
    "    text = text.read()"
   ],
   "metadata": {
    "collapsed": false,
    "pycharm": {
     "name": "#%%\n"
    }
   }
  },
  {
   "cell_type": "code",
   "execution_count": 160,
   "outputs": [],
   "source": [
    "aa_dict = {\"UUU\": \"F\",      \"CUU\": \"L\",      \"AUU\": \"I\",      \"GUU\": \"V\",\n",
    "\"UUC\": \"F\",      \"CUC\": \"L\",      \"AUC\": \"I\",      \"GUC\": \"V\",\n",
    "\"UUA\": \"L\",      \"CUA\": \"L\",      \"AUA\": \"I\",      \"GUA\": \"V\",\n",
    "\"UUG\": \"L\",      \"CUG\": \"L\",      \"AUG\": \"M\",      \"GUG\": \"V\",\n",
    "\"UCU\": \"S\",      \"CCU\": \"P\",      \"ACU\": \"T\",      \"GCU\": \"A\",\n",
    "\"UCC\": \"S\",      \"CCC\": \"P\",      \"ACC\": \"T\",      \"GCC\": \"A\",\n",
    "\"UCA\": \"S\",      \"CCA\": \"P\",      \"ACA\": \"T\",      \"GCA\": \"A\",\n",
    "\"UCG\": \"S\",      \"CCG\": \"P\",      \"ACG\": \"T\",      \"GCG\": \"A\",\n",
    "\"UAU\": \"Y\",      \"CAU\": \"H\",      \"AAU\": \"N\",      \"GAU\": \"D\",\n",
    "\"UAC\": \"Y\",      \"CAC\": \"H\",      \"AAC\": \"N\",      \"GAC\": \"D\",\n",
    "\"UAA\": \"Stop\",   \"CAA\": \"Q\",      \"AAA\": \"K\",      \"GAA\": \"E\",\n",
    "\"UAG\": \"Stop\",   \"CAG\": \"Q\",      \"AAG\": \"K\",      \"GAG\": \"E\",\n",
    "\"UGU\": \"C\",      \"CGU\": \"R\",      \"AGU\": \"S\",      \"GGU\": \"G\",\n",
    "\"UGC\": \"C\",      \"CGC\": \"R\",      \"AGC\": \"S\",      \"GGC\": \"G\",\n",
    "\"UGA\": \"Stop\",   \"CGA\": \"R\",      \"AGA\": \"R\",      \"GGA\": \"G\",\n",
    "\"UGG\": \"W\",      \"CGG\": \"R\",      \"AGG\": \"R\",      \"GGG\": \"G\" }"
   ],
   "metadata": {
    "collapsed": false,
    "pycharm": {
     "name": "#%%\n"
    }
   }
  },
  {
   "cell_type": "code",
   "execution_count": 161,
   "outputs": [],
   "source": [
    "def rNAToDna(string):\n",
    "    aa_seq = \"\"\n",
    "    for x in range(0, len(string)-3, 3):\n",
    "        aa = text[x] + text[x+1] + text[x+2]\n",
    "        aa_seq = aa_seq + aa_dict[aa]\n",
    "        x = x + 3;\n",
    "    return aa_seq"
   ],
   "metadata": {
    "collapsed": false,
    "pycharm": {
     "name": "#%%\n"
    }
   }
  },
  {
   "cell_type": "code",
   "execution_count": 162,
   "outputs": [],
   "source": [
    "mystring = rNAToDna(text)"
   ],
   "metadata": {
    "collapsed": false,
    "pycharm": {
     "name": "#%%\n"
    }
   }
  },
  {
   "cell_type": "code",
   "execution_count": 163,
   "outputs": [
    {
     "name": "stdout",
     "output_type": "stream",
     "text": [
      "['MVVSSTGQASVRFSCSYVLCYSVRGGLRLESSFCSFRCTTGPEPRSFALRRITAWYLGLQSAACASGDLWLSPSIIVLPCRAPVARHSLGTLWFRSDCSDSYPPLKPRAEPLRNYPVLFSTLVTSLHNYKQSYARVGTSSPTLDAEAILSKHTLNRYVVEWYSGISSHNSRQSSKPSPRELSCFVDTSEEASALRDQLRVGSDLRSRKAVREGPSAASCETIELDRITTRPDVGRKHDCAFRVNAIRSTGPALSCHRQLSPVSKNIMSSRFLRKGLKPPSRKKNEPCISHEARRCRVIRHDLVNSGPGAPSPDAVRFCLARPSLASHLHLASSNSSRTIVSPMPPAGRTWSTKNRSDAFVVELAYRCLIRISPDVGRSSGRTRSVWFLLAATLSIFTQSRFRPRAVSYASKDVWSIRSTTFSDVRLLTIIQLLSESVRPPLLRRVHCLGVQGFANAHLIKPSIESRSKREALSDGHIISSSVIRRLRAKPALSLGDILFASGQSGLSYLPGRVGMNWHRWDMFATAPIVGKGKCYTHHKCPSIRRNSRINRNMVNISTLSAVPCGQGCSSLFTCPGSRELNLPISYTCISGVTLCIGPSNARRLFQETFSIPARRRRTGNRYISWLSAPDSTHVVERSEPDVVYIGYPSCDWGSGTASAGRWIWRLASSMFARIRTNAFSCFISAHVSTEPLQFVSRGPFAVPTEERAAECILGFLGTVGSLSIIRISQPLVDGRTRCPIPDWGVGGVSGEVGRSPTGSLPRPQICALPYLLIPSTDPGYTCFRLRGMLIQVIHSIILIAGRYGVIPWPVVAVPGSSNYTNRLNHWSPFILPISRVCACGSPSHYHSDLNRKAEGLSDCRRSSILKGHRWRTYTRNQTITYVCSIFSSRVSSTCQLPKLYVTSFRVAIAQSEIAPACCKDHHMCALITNKSKTRAPSIRGCMPTRRCSTFLGVKPSTLSPKNNAYPREKAASVKGSGSAVDGEGAQTRTVSRDHKTTVTNADRHRQEDAIVGISPRGPILVGATNDLYTPEGLTCESHDLHPCGSALLRGDQLRYEHEIDYPVCPQTIPNRPAVYNTRQVHTQHELGSRRRPMSELLKAYNTTKDPLAPKTLFSAREASGRSLPSRTSGDCQSPVRHATTIRFYPCVAAEETYLLPDQRLAKHTALMYYPPSPCAGCYHGSIQPAIRPHGWQLGPWTITGLLPDRSATRLLDLGHPSSTSTYQYITISCLSLRGALFNPHSCSVVTAGRNAGLVSKFLWHCICTDIIVLFCSTDGRSSCAHTLIEGLIVKYITSFRAAHRPVRTSRPRTSSVGRIVLVYPTTRLPLHNNHSPYRRLRSMGRYAYVQSLQGGGASFIISRDLSVSRNRRYTQSELRPVDHSQRGTDRWQLSILKCARYLSVLEVLNRFRFNVLLALLVAKADGGRACQRVHGGLPRQTPGTYLGKYLLLSGSARLLNAFHITVRGSANMPWCCKVLKCIYIGTDSLPAHKCFTSLGLWSQGGTCRISRSSTSHVIPAHRELPCAVTGLGLITTHVLGGHALEAPFKSCNVKSNTAYGVEIQQSLKNRLRSNLALYGHLARILADDCSLAALGSPCILQVYDTKCRQFPKLAHSGRGNIFKSRVETRFCTAHNLVESGCLALPHIILRIDHVGAAVTLGRRPDVLAPARNYLLPPTKGNKSNGVDNLRIHRWAESALSTAKFNKIHVCASLTTVRRHSPSKSTVHTETVLPHGVGNPTHVNTGPPEYTQGAHFSITATLGPTTDAHPGIGDLGSRQLHLPWPLRDEVSLGGVVLPSAIAFFAPLFSGSFRVPEGTDCTGLKYVEVGRADVPWPVHIPDGLGALGPGTMRTSAHENLCRSCFESNKGPAKRTEDVTPNLRCNLALLTTKPKRSPLVYLLIRIFGHFRPPMSYITDMPPRHVWRDSRRTMHTSASEYYLRGCESFINSSRLPRRGTRADNRRALIGVGRADRTVISVSPTAWVHGRGACLGKLYVLTCKREDASPYEDESRMPRGGKAMSPPCNEKLHGKSRWDGNPTCILRKLRANQNQIGWALVHTDYCPVQILRRGCGEARNDASSELVHWRRGRSASLECAPISAAIGVGKSPLLKLPSKATTGHCQVTTTDGRVLRGFHRILKAHQSKREYLSRIQIVDPMKMIPLCSTITTMGMGTRYMSSYIVGSASLLRNHIMTFDSVYAPIPPSILAMNTTARRTDTKKLVDGLKVTPVITLSFRPPIDERSHGSIAMLGSEPFGSSCYNESMYTCFLERSNHPQDTPLKDPSSPCGHMPEKMNSGQCGLGLHTIFLYNLVGESGEFLVDLGLHHPRYRALRGPMVHGYRTPDAAARGYAHRTGVSITLLVLFSEDIGDGHKLDSGGTRHLGPRPDHAPKCNAQCKSPCSPQQLAIVLIGRGEGLNVARDRPGTVKQIKTLSERPCQGCSHITQRWNYSHLIGDSIRRSPRVSIGNYRVSRVTLEILIKPISIIGGQRETRRDAELIAIVTGVPSDHSELDYQRLIVHSRVSSVTHRSFVERYQSDPRRRVHDLASMDKTLTPAVQNSSSAMRIGRRINKNLVGSRPSDRIVSLSLTPLMLRAVWEFEVQTMRLKTWWPSRRLRLSQDYKSTICPWLPPSYLSCRARTLQRRPYRTLRYTVDPLMVCSTQMRSKSGKELRQ', '']\n"
     ]
    }
   ],
   "source": [
    "mystring = mystring.split(\"Stop\",1)\n",
    "print(mystring)"
   ],
   "metadata": {
    "collapsed": false,
    "pycharm": {
     "name": "#%%\n"
    }
   }
  },
  {
   "cell_type": "code",
   "execution_count": null,
   "outputs": [],
   "source": [],
   "metadata": {
    "collapsed": false,
    "pycharm": {
     "name": "#%%\n"
    }
   }
  }
 ],
 "metadata": {
  "kernelspec": {
   "name": "rosalind4",
   "language": "python",
   "display_name": "Rosalind4"
  },
  "language_info": {
   "codemirror_mode": {
    "name": "ipython",
    "version": 2
   },
   "file_extension": ".py",
   "mimetype": "text/x-python",
   "name": "python",
   "nbconvert_exporter": "python",
   "pygments_lexer": "ipython2",
   "version": "2.7.6"
  }
 },
 "nbformat": 4,
 "nbformat_minor": 0
}