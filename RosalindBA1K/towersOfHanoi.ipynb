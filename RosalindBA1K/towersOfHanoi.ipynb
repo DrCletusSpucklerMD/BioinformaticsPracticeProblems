{
 "cells": [
  {
   "cell_type": "code",
   "execution_count": 5,
   "metadata": {
    "collapsed": true,
    "pycharm": {
     "name": "#%%\n"
    }
   },
   "outputs": [],
   "source": [
    "def hanoi(n, start, end):\n",
    "    if n == 1:\n",
    "        printMove(start, end)\n",
    "    else:\n",
    "        other = 6 - (start + end)\n",
    "        hanoi(n - 1, start, other)\n",
    "        printMove(start, end)\n",
    "        hanoi(n - 1, other, end)"
   ]
  },
  {
   "cell_type": "code",
   "execution_count": 6,
   "outputs": [],
   "source": [
    "def printMove(start, end):\n",
    "    print(start, \"-->\", end)"
   ],
   "metadata": {
    "collapsed": false,
    "pycharm": {
     "name": "#%%\n"
    }
   }
  },
  {
   "cell_type": "code",
   "execution_count": 7,
   "outputs": [
    {
     "name": "stdout",
     "output_type": "stream",
     "text": [
      "1 --> 2\n",
      "1 --> 3\n",
      "2 --> 3\n",
      "1 --> 2\n",
      "3 --> 1\n",
      "3 --> 2\n",
      "1 --> 2\n",
      "1 --> 3\n",
      "2 --> 3\n",
      "2 --> 1\n",
      "3 --> 1\n",
      "2 --> 3\n",
      "1 --> 2\n",
      "1 --> 3\n",
      "2 --> 3\n"
     ]
    }
   ],
   "source": [
    "hanoi(4,1,3)"
   ],
   "metadata": {
    "collapsed": false,
    "pycharm": {
     "name": "#%%\n"
    }
   }
  },
  {
   "cell_type": "code",
   "execution_count": null,
   "outputs": [],
   "source": [],
   "metadata": {
    "collapsed": false,
    "pycharm": {
     "name": "#%%\n"
    }
   }
  }
 ],
 "metadata": {
  "kernelspec": {
   "display_name": "Python 3",
   "language": "python",
   "name": "python3"
  },
  "language_info": {
   "codemirror_mode": {
    "name": "ipython",
    "version": 2
   },
   "file_extension": ".py",
   "mimetype": "text/x-python",
   "name": "python",
   "nbconvert_exporter": "python",
   "pygments_lexer": "ipython2",
   "version": "2.7.6"
  }
 },
 "nbformat": 4,
 "nbformat_minor": 0
}