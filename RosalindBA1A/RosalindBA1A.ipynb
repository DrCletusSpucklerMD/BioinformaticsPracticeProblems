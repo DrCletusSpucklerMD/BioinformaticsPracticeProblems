{
 "cells": [
  {
   "cell_type": "code",
   "execution_count": 189,
   "outputs": [],
   "source": [
    "with open(r\"./rosalind_ba1a.txt\", \"r\") as f:\n",
    "        text1 = f.readline()\n",
    "        pattern1 = f.readline().strip()"
   ],
   "metadata": {
    "collapsed": false,
    "pycharm": {
     "name": "#%%\n"
    }
   }
  },
  {
   "cell_type": "code",
   "execution_count": 190,
   "outputs": [
    {
     "name": "stdout",
     "output_type": "stream",
     "text": [
      "GCTAGAGGTGACTAGAGGTTATAGAGGTAATTAATAGAGGTCTCGGTAGAGGTTAGAGGTCGTGTTAGAGGTTTAGAGGTTAGAGGTGCTTTAGAGGTTAGAGGTTAGAGGTGGTAGAGGTTAGAGGTGATAGAGGTTCATCATATAGAGGTTAGAGGTTAGAGGTACACGTAGAGGTATGGTAGAGGTTCTAGAGGTCTCTCAAGGTTAGAGGTCAATAGAGGTTAGAGGTAAACCACAACTCAAGTTAGAGGTTCCTAGAGGTAGCGCCTGCTTAGAGGTCCTAGAGGTTAGAGGTGGCTAGAGGTGTGCTCGCTAGAGGTCGGTAGAGGTTGGCTCATTCCCGTAGAGGTTAGAGGTTCTGCCTAGAGGTTAGAGGTTCTAGAGGTCCTCTTAGAGGTGCGACGGGTCGCTAGAGGTATAGAGGTTAGAGGTCTTTAGAGGTTAGAGGTTTAGAGGTCTAGAGGTGTAGAGGTAGGCAAATAGAGGTCAGATTTAGAGGTTAGAGCACCTAGTAGAGGTGCCTGCTCCCTAGAGGTTAGAGGTGAACAAATAGAGGTACTCCGCCCTTAGAGGTTAGAGGTTAGAGGTAACTGGTAGAGGTGCCTAGAGGTGGTTTAGAGGTGAGATAGAGGTTAGAGGTGCGTAGAGGTTTTAGAGGTCCTCGGGGAGCCTAGAGGTGAGGTAGAGGTTTAGAGGTTTAGAGGTTTCTCTAGAGGTTGGTTTTAGAGGTGTAGAGGTTAGAGGTTAGAGGTGTTAGAGGTTCTTGTTACCGGGTGAAGATTAGAGGTTGGGTAGAGGTTAGAGGTCGTAGAGGTCTAGAGGTGCCGTAGAGGTAGTAGAGGTTAGAGGTCATAGAGGTTTCTCAGATTACTAGAGGTGTGCTAGAGGTTAGAGGTTAGAGGTCATTAGAGGTTAGAGGTTTTAGAGGTTAGAGGTAGGAATAGAGGTGGCAACAATAGAGGTTAGAGGTATAGAGGTTAGAGGTTTAGAGGTTTATAGAGGTACTTAGAGGTACGGATAGAGGTTAGAGGT\n",
      " TAGAGGTTA\n"
     ]
    }
   ],
   "source": [
    "print(text1, pattern1)"
   ],
   "metadata": {
    "collapsed": false,
    "pycharm": {
     "name": "#%%\n"
    }
   }
  },
  {
   "cell_type": "code",
   "execution_count": 191,
   "outputs": [],
   "source": [
    "def patternCount(text, pattern):\n",
    "    count = 0\n",
    "    for i in range(len(text) - len(pattern)):\n",
    "        if text[i:(i+len(pattern))] == pattern:\n",
    "            count += 1\n",
    "    return count"
   ],
   "metadata": {
    "collapsed": false,
    "pycharm": {
     "name": "#%%\n"
    }
   }
  },
  {
   "cell_type": "code",
   "execution_count": 192,
   "outputs": [
    {
     "data": {
      "text/plain": "30"
     },
     "execution_count": 192,
     "metadata": {},
     "output_type": "execute_result"
    }
   ],
   "source": [
    "patternCount(text1, pattern1)"
   ],
   "metadata": {
    "collapsed": false,
    "pycharm": {
     "name": "#%%\n"
    }
   }
  },
  {
   "cell_type": "code",
   "execution_count": 168,
   "outputs": [],
   "source": [],
   "metadata": {
    "collapsed": false,
    "pycharm": {
     "name": "#%%\n"
    }
   }
  },
  {
   "cell_type": "code",
   "execution_count": null,
   "outputs": [],
   "source": [],
   "metadata": {
    "collapsed": false,
    "pycharm": {
     "name": "#%%\n"
    }
   }
  }
 ],
 "metadata": {
  "kernelspec": {
   "display_name": "Python 3 (ipykernel)",
   "language": "python",
   "name": "python3"
  },
  "language_info": {
   "codemirror_mode": {
    "name": "ipython",
    "version": 3
   },
   "file_extension": ".py",
   "mimetype": "text/x-python",
   "name": "python",
   "nbconvert_exporter": "python",
   "pygments_lexer": "ipython3",
   "version": "3.9.7"
  },
  "toc": {
   "base_numbering": 1,
   "nav_menu": {},
   "number_sections": true,
   "sideBar": true,
   "skip_h1_title": false,
   "title_cell": "Table of Contents",
   "title_sidebar": "Contents",
   "toc_cell": false,
   "toc_position": {},
   "toc_section_display": true,
   "toc_window_display": false
  }
 },
 "nbformat": 4,
 "nbformat_minor": 1
}