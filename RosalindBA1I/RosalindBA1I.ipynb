{
 "cells": [
  {
   "cell_type": "code",
   "execution_count": 11,
   "outputs": [],
   "source": [
    "import pandas as pd"
   ],
   "metadata": {
    "collapsed": false,
    "pycharm": {
     "name": "#%%\n"
    }
   }
  },
  {
   "cell_type": "code",
   "execution_count": 12,
   "outputs": [],
   "source": [
    "string = 'CACAGTAGGCGCCGGCACACACAGCCCCGGGCCCCGGGCCGCCCCGGGCCGGCGGCCGCCGGCGCCGGCACACCGGCACAGCCGTACCGGCACAGTAGTACCGGCCGGCCGGCACACCGGCACACCGGGTACACACCGGGGCGCACACACAGGCGGGCGCCGGGCCCCGGGCCGTACCGGGCCGCCGGCGGCCCACAGGCGCCGGCACAGTACCGGCACACACAGTAGCCCACACACAGGCGGGCGGTAGCCGGCGCACACACACACAGTAGGCGCACAGCCGCCCACACACACCGGCCGGCCGGCACAGGCGGGCGGGCGCACACACACCGGCACAGTAGTAGGCGGCCGGCGCACAGCC'\n",
    "k = 10\n",
    "d = 2"
   ],
   "metadata": {
    "collapsed": false,
    "pycharm": {
     "name": "#%%\n"
    }
   }
  },
  {
   "cell_type": "code",
   "execution_count": 13,
   "outputs": [],
   "source": [
    "def hamming_distance(string1, string2):\n",
    "    distance = 0\n",
    "    for i in range(len(string1)):\n",
    "        if string1[i] != string2[i]:\n",
    "            distance += 1\n",
    "    return distance"
   ],
   "metadata": {
    "collapsed": false,
    "pycharm": {
     "name": "#%%\n"
    }
   }
  },
  {
   "cell_type": "code",
   "execution_count": 14,
   "outputs": [],
   "source": [
    "def approx_pattern_match(pattern, text, d):\n",
    "    count = 0\n",
    "    for j in range(len(text) - len(pattern) + 1):\n",
    "        pattern_ = text[j:(j+len(pattern))]\n",
    "        if hamming_distance(pattern, pattern_) <= d:\n",
    "            count += 1\n",
    "    return count"
   ],
   "metadata": {
    "collapsed": false,
    "pycharm": {
     "name": "#%%\n"
    }
   }
  },
  {
   "cell_type": "code",
   "execution_count": 28,
   "outputs": [],
   "source": [
    "def most_freq_words_w_mismatches(string, k, d):\n",
    "    count = []\n",
    "    k_mers = []\n",
    "    for i in range(len(string) - k + 1):\n",
    "            k_mer = string[i:i+k]\n",
    "            count.append(approx_pattern_match(k_mer, string, d))\n",
    "    count_df = pd.DataFrame(count, columns = {'count'})\n",
    "    maximum = count_df.max()\n",
    "    count_df['max'] = count_df[count_df == maximum]\n",
    "    starting_pos = count_df[count_df['max'] >= int(maximum)]\n",
    "    print(starting_pos)\n",
    "    for j in range(len(starting_pos)):\n",
    "        start = starting_pos.index[j]\n",
    "        k_mer = string[start:start+k]\n",
    "        k_mers.append(k_mer)\n",
    "        l = 0\n",
    "        while l < 4^(len(k_mer)):\n",
    "            if k_mer[l] == 'A':\n",
    "                k_mer[l].replace('A', 'C')\n",
    "                k_mers.append(k_mer)\n",
    "                k_mer[l].replace('A', 'G')\n",
    "                k_mers.append(k_mer)\n",
    "                k_mer[l].replace('A', 'T')\n",
    "                k_mers.append(k_mer)\n",
    "            elif k_mer[l] == 'T':\n",
    "                k_mer[l].replace('T', 'C')\n",
    "                k_mers.append(k_mer)\n",
    "                k_mer[l].replace('T', 'G')\n",
    "                k_mers.append(k_mer)\n",
    "                k_mer[l].replace('T', 'A')\n",
    "                k_mers.append(k_mer)\n",
    "            elif k_mer[l] == 'G':\n",
    "                k_mer[l].replace('G', 'C')\n",
    "                k_mers.append(k_mer)\n",
    "                k_mer[l].replace('G', 'A')\n",
    "                k_mers.append(k_mer)\n",
    "                k_mer[l].replace('G', 'T')\n",
    "                k_mers.append(k_mer)\n",
    "            elif k_mer[l] == 'C':\n",
    "                k_mer[l].replace('C', 'A')\n",
    "                k_mers.append(k_mer)\n",
    "                k_mer[l].replace('C', 'G')\n",
    "                k_mers.append(k_mer)\n",
    "                k_mer[l].replace('C', 'T')\n",
    "                k_mers.append(k_mer)\n",
    "            else:\n",
    "                break\n",
    "    k_mers.sort()\n",
    "    k_mers_unique = pd.unique(pd.Series(k_mers))\n",
    "    return print(*k_mers_unique)"
   ],
   "metadata": {
    "collapsed": false,
    "pycharm": {
     "name": "#%%\n"
    }
   }
  },
  {
   "cell_type": "code",
   "execution_count": null,
   "outputs": [
    {
     "name": "stdout",
     "output_type": "stream",
     "text": [
      "     count   max\n",
      "140     20  20.0\n",
      "253     20  20.0\n",
      "318     20  20.0\n"
     ]
    }
   ],
   "source": [
    "most_freq_words_w_mismatches(string, k, d)"
   ],
   "metadata": {
    "collapsed": false,
    "pycharm": {
     "name": "#%%\n",
     "is_executing": true
    }
   }
  },
  {
   "cell_type": "code",
   "execution_count": 17,
   "outputs": [
    {
     "ename": "SyntaxError",
     "evalue": "invalid syntax (3744571194.py, line 1)",
     "output_type": "error",
     "traceback": [
      "\u001B[0;36m  File \u001B[0;32m\"/var/folders/n2/1mfp7fms1250fjtfq4ddv6xr0000gp/T/ipykernel_17644/3744571194.py\"\u001B[0;36m, line \u001B[0;32m1\u001B[0m\n\u001B[0;31m    GCACACAGAC GCGCACACAC\u001B[0m\n\u001B[0m               ^\u001B[0m\n\u001B[0;31mSyntaxError\u001B[0m\u001B[0;31m:\u001B[0m invalid syntax\n"
     ]
    }
   ],
   "source": [
    "GCACACAGAC GCGCACACAC"
   ],
   "metadata": {
    "collapsed": false,
    "pycharm": {
     "name": "#%%\n"
    }
   }
  },
  {
   "cell_type": "code",
   "execution_count": null,
   "outputs": [],
   "source": [],
   "metadata": {
    "collapsed": false,
    "pycharm": {
     "name": "#%%\n"
    }
   }
  },
  {
   "cell_type": "code",
   "execution_count": null,
   "outputs": [],
   "source": [],
   "metadata": {
    "collapsed": false,
    "pycharm": {
     "name": "#%%\n"
    }
   }
  }
 ],
 "metadata": {
  "kernelspec": {
   "name": "pooling_nb",
   "language": "python",
   "display_name": "pooling_nb"
  },
  "language_info": {
   "codemirror_mode": {
    "name": "ipython",
    "version": 2
   },
   "file_extension": ".py",
   "mimetype": "text/x-python",
   "name": "python",
   "nbconvert_exporter": "python",
   "pygments_lexer": "ipython2",
   "version": "2.7.6"
  }
 },
 "nbformat": 4,
 "nbformat_minor": 0
}