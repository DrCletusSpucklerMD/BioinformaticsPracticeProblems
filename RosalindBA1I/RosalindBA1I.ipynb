{
 "cells": [
  {
   "cell_type": "code",
   "execution_count": 1,
   "outputs": [],
   "source": [
    "import pandas as pd"
   ],
   "metadata": {
    "collapsed": false,
    "pycharm": {
     "name": "#%%\n"
    }
   }
  },
  {
   "cell_type": "code",
   "execution_count": 158,
   "outputs": [],
   "source": [
    "string = 'ACATCCTTCTGATAGGTTTCGTTCTGACATCCTTCTGATAGGTCAGATTCATCAGATTCAACATCCTTTCAGATTCAACATCCTTCTGATAGGACATCCTTCTGATAGGTTTCGTTCTGACATCCTTACATCCTTCTGATAGGTCAGATTCATTTCGTTCTGACATCCTTTTTCGTTCTGCTGATAGGACATCCTTTTTCGTTCTGACATCCTTCTGATAGGACATCCTTTCAGATTCATCAGATTCATTTCGTTCTGTCAGATTCAACATCCTTCTGATAGGTTTCGTTCTGTCAGATTCAACATCCTTTTTCGTTCTGACATCCTTACATCCTTCTGATAGGGCAGAGTCGCAGAGTCGCAGAGTCTTTCGTTCTGGCAGAGTCTCAGATTCATTTCGTTCTGACATCCTTCTGATAGGCTGATAGGCTGATAGGTTTCGTTCTGTCAGATTCATTTCGTTCTGTCAGATTCACTGATAGGACATCCTTGCAGAGTCTTTCGTTCTGGCAGAGTCCTGATAGGCTGATAGGCTGATAGGGCAGAGTCTTTCGTTCTGCTGATAGGTTTCGTTCTGACATCCTTCTGATAGGTCAGATTCATTTCGTTCTGGCAGAGTCGCAGAGTCTTTCGTTCTGTTTCGTTCTGCTGATAGGTCAGATTCAGCAGAGTCCTGATAGGGCAGAGTCACATCCTTTCAGATTCAACATCCTTGCAGAGTCCTGATAGGACATCCTTTCAGATTCAACATCCTTTCAGATTCATTTCGTTCTGGCAGAGTCTCAGATTCACTGATAGGCTGATAGGTCAGATTCACTGATAGGTCAGATTCATTTCGTTCTGGCAGAGTCACATCCTTCTGATAGGACATCCTTACATCCTTACATCCTTCTGATAGGACATCCTTACATCCTTCTGATAGGTCAGATTCACTGATAGGTCAGATTCA'\n",
    "k = 7\n",
    "d = 2"
   ],
   "metadata": {
    "collapsed": false,
    "pycharm": {
     "name": "#%%\n"
    }
   }
  },
  {
   "cell_type": "code",
   "execution_count": 159,
   "outputs": [],
   "source": [
    "def hamming_distance(string1, string2):\n",
    "    distance = 0\n",
    "    for i in range(len(string1)):\n",
    "        if string1[i] != string2[i]:\n",
    "            distance += 1\n",
    "    return distance"
   ],
   "metadata": {
    "collapsed": false,
    "pycharm": {
     "name": "#%%\n"
    }
   }
  },
  {
   "cell_type": "code",
   "execution_count": 160,
   "outputs": [],
   "source": [
    "def approx_pattern_match(pattern, text, d):\n",
    "    count = 0\n",
    "    for j in range(len(text) - len(pattern) + 1):\n",
    "        pattern_ = text[j:(j+len(pattern))]\n",
    "        if hamming_distance(pattern, pattern_) <= d:\n",
    "            count += 1\n",
    "    return count"
   ],
   "metadata": {
    "collapsed": false,
    "pycharm": {
     "name": "#%%\n"
    }
   }
  },
  {
   "cell_type": "code",
   "execution_count": 161,
   "outputs": [],
   "source": [
    "def most_freq_words_w_mismatches(string, k, d):\n",
    "    count = []\n",
    "    k_mers = []\n",
    "    for i in range(len(string) - k + 1):\n",
    "            k_mer = string[i:i+k]\n",
    "            count.append(approx_pattern_match(k_mer, string, d))\n",
    "    count_df = pd.DataFrame(count, columns = {'count'})\n",
    "    maximum = count_df.max()\n",
    "    count_df['max'] = count_df[count_df == maximum]\n",
    "    starting_pos = count_df[count_df['max'] >= int(maximum)]\n",
    "    for j in range(len(starting_pos)):\n",
    "        start = starting_pos.index[j]\n",
    "        k_mers.append(string[start:start+k])\n",
    "    k_mers.sort()\n",
    "    return print(*k_mers)"
   ],
   "metadata": {
    "collapsed": false,
    "pycharm": {
     "name": "#%%\n"
    }
   }
  },
  {
   "cell_type": "code",
   "execution_count": 162,
   "outputs": [
    {
     "name": "stdout",
     "output_type": "stream",
     "text": [
      "TTCTGTT\n"
     ]
    }
   ],
   "source": [
    "most_freq_words_w_mismatches(string, k, d)"
   ],
   "metadata": {
    "collapsed": false,
    "pycharm": {
     "name": "#%%\n"
    }
   }
  },
  {
   "cell_type": "code",
   "execution_count": null,
   "outputs": [],
   "source": [],
   "metadata": {
    "collapsed": false,
    "pycharm": {
     "name": "#%%\n"
    }
   }
  }
 ],
 "metadata": {
  "kernelspec": {
   "name": "pooling_nb",
   "language": "python",
   "display_name": "pooling_nb"
  },
  "language_info": {
   "codemirror_mode": {
    "name": "ipython",
    "version": 2
   },
   "file_extension": ".py",
   "mimetype": "text/x-python",
   "name": "python",
   "nbconvert_exporter": "python",
   "pygments_lexer": "ipython2",
   "version": "2.7.6"
  }
 },
 "nbformat": 4,
 "nbformat_minor": 0
}