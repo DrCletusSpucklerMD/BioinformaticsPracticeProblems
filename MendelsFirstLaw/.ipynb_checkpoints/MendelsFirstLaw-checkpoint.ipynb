{
 "cells": [
  {
   "cell_type": "code",
   "execution_count": 2,
   "metadata": {},
   "outputs": [],
   "source": [
    "import pandas as pd\n",
    "import numpy as np"
   ]
  },
  {
   "cell_type": "code",
   "execution_count": 39,
   "metadata": {
    "pycharm": {
     "name": "#%%\n"
    }
   },
   "outputs": [],
   "source": [
    "with open(\"./rosalind_iprb.txt\", \"r\") as text:\n",
    "    text = text.readlines()"
   ]
  },
  {
   "cell_type": "code",
   "execution_count": 40,
   "metadata": {
    "pycharm": {
     "name": "#%%\n"
    }
   },
   "outputs": [
    {
     "name": "stdout",
     "output_type": "stream",
     "text": [
      "['22', '25', '26']\n",
      "22\n",
      "25\n",
      "26\n"
     ]
    }
   ],
   "source": [
    "text = text[0].strip('\\n')\n",
    "text = text.split(\" \")\n",
    "\n",
    "\n",
    "#find odds that offspring phenotype is dominant\n",
    "#sum of Aa + AA, NOT aa\n",
    "AA = text[0]\n",
    "Aa = text[1]\n",
    "aa = text[2]\n",
    "\n",
    "print(AA)\n",
    "print(Aa)\n",
    "print(aa)"
   ]
  },
  {
   "cell_type": "code",
   "execution_count": 47,
   "metadata": {
    "pycharm": {
     "name": "#%%\n"
    }
   },
   "outputs": [],
   "source": [
    "AA_Aa = pd.DataFrame() \n",
    "#AA_AA\n",
    "#AA_aa"
   ]
  },
  {
   "cell_type": "code",
   "execution_count": null,
   "metadata": {
    "pycharm": {
     "name": "#%%\n"
    }
   },
   "outputs": [],
   "source": [
    "#Aa_AA\n",
    "#Aa_Aa\n",
    "#Aa_aa"
   ]
  },
  {
   "cell_type": "code",
   "execution_count": null,
   "metadata": {},
   "outputs": [],
   "source": [
    "#aa_AA\n",
    "#aa_Aa\n",
    "#aa_aa"
   ]
  },
  {
   "cell_type": "code",
   "execution_count": null,
   "metadata": {},
   "outputs": [],
   "source": []
  }
 ],
 "metadata": {
  "kernelspec": {
   "display_name": "Rosalind4",
   "language": "python",
   "name": "rosalind4"
  },
  "language_info": {
   "codemirror_mode": {
    "name": "ipython",
    "version": 3
   },
   "file_extension": ".py",
   "mimetype": "text/x-python",
   "name": "python",
   "nbconvert_exporter": "python",
   "pygments_lexer": "ipython3",
   "version": "3.9.7"
  }
 },
 "nbformat": 4,
 "nbformat_minor": 4
}
