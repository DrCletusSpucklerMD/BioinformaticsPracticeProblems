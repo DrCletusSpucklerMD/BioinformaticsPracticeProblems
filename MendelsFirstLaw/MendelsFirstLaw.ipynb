{
 "cells": [
  {
   "cell_type": "code",
   "execution_count": 196,
   "metadata": {},
   "outputs": [],
   "source": [
    "import pandas as pd\n",
    "import numpy as np"
   ]
  },
  {
   "cell_type": "code",
   "execution_count": 197,
   "metadata": {
    "pycharm": {
     "name": "#%%\n"
    }
   },
   "outputs": [],
   "source": [
    "with open(\"./rosalind_iprb.txt\", \"r\") as text:\n",
    "    text = text.readlines()"
   ]
  },
  {
   "cell_type": "code",
   "execution_count": 198,
   "metadata": {},
   "outputs": [],
   "source": [
    "text = text[0].strip('\\n')\n",
    "text = text.split(\" \")"
   ]
  },
  {
   "cell_type": "code",
   "execution_count": 199,
   "metadata": {
    "pycharm": {
     "name": "#%%\n"
    }
   },
   "outputs": [],
   "source": [
    "#find odds that offspring phenotype is dominant\n",
    "#sum of Aa + AA, NOT aa\n",
    "num_homo_AA = text[0]\n",
    "num_hetero_Aa = text[1]\n",
    "num_homo_aa = text[2]"
   ]
  },
  {
   "cell_type": "code",
   "execution_count": 200,
   "metadata": {
    "pycharm": {
     "name": "#%%\n"
    }
   },
   "outputs": [],
   "source": [
    "AA_mat = np.array([[1,1]])\n",
    "Aa_mat = np.array([[1,0]])\n",
    "aA_mat = np.array([[0,1]])\n",
    "aa_mat = np.array([[0,0]])"
   ]
  },
  {
   "cell_type": "code",
   "execution_count": 201,
   "metadata": {},
   "outputs": [],
   "source": [
    "def punnettSquare(a,b):\n",
    "    return np.concatenate((a,b),axis=0)"
   ]
  },
  {
   "cell_type": "code",
   "execution_count": 202,
   "metadata": {
    "pycharm": {
     "name": "#%%\n"
    }
   },
   "outputs": [],
   "source": [
    "AA_AA = punnettSquare(AA_mat,AA_mat)\n",
    "AA_Aa = punnettSquare(AA_mat,Aa_mat)\n",
    "AA_aa = punnettSquare(AA_mat,aa_mat)"
   ]
  },
  {
   "cell_type": "code",
   "execution_count": 203,
   "metadata": {
    "pycharm": {
     "name": "#%%\n"
    }
   },
   "outputs": [],
   "source": [
    "Aa_AA = punnettSquare(Aa_mat,AA_mat)\n",
    "Aa_Aa = punnettSquare(Aa_mat,Aa_mat)\n",
    "Aa_aa = punnettSquare(Aa_mat,aa_mat)"
   ]
  },
  {
   "cell_type": "code",
   "execution_count": 204,
   "metadata": {},
   "outputs": [],
   "source": [
    "aa_AA = punnettSquare(aa_mat,AA_mat)\n",
    "aa_Aa = punnettSquare(aa_mat,Aa_mat)\n",
    "aa_aa = punnettSquare(aa_mat,aa_mat)"
   ]
  },
  {
   "cell_type": "code",
   "execution_count": 205,
   "metadata": {},
   "outputs": [
    {
     "name": "stdout",
     "output_type": "stream",
     "text": [
      "[[1 1]\n",
      " [0 0]]\n"
     ]
    }
   ],
   "source": [
    "print(np.multiply(AA_mat, Aa_mat.T))"
   ]
  },
  {
   "cell_type": "code",
   "execution_count": null,
   "metadata": {},
   "outputs": [],
   "source": []
  },
  {
   "cell_type": "code",
   "execution_count": null,
   "metadata": {},
   "outputs": [],
   "source": []
  }
 ],
 "metadata": {
  "kernelspec": {
   "display_name": "Rosalind4",
   "language": "python",
   "name": "rosalind4"
  },
  "language_info": {
   "codemirror_mode": {
    "name": "ipython",
    "version": 3
   },
   "file_extension": ".py",
   "mimetype": "text/x-python",
   "name": "python",
   "nbconvert_exporter": "python",
   "pygments_lexer": "ipython3",
   "version": "3.9.7"
  }
 },
 "nbformat": 4,
 "nbformat_minor": 4
}